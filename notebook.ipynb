{
 "cells": [
  {
   "cell_type": "code",
   "execution_count": 1,
   "metadata": {},
   "outputs": [
    {
     "data": {
      "application/vnd.jupyter.widget-view+json": {
       "model_id": "107c2aac842d4436aa8261111d1e8a65",
       "version_major": 2,
       "version_minor": 0
      },
      "text/plain": [
       "config.json:   0%|          | 0.00/348 [00:00<?, ?B/s]"
      ]
     },
     "metadata": {},
     "output_type": "display_data"
    },
    {
     "name": "stderr",
     "output_type": "stream",
     "text": [
      "C:\\Users\\F4L5GPL\\AppData\\Roaming\\Python\\Python311\\site-packages\\huggingface_hub\\file_download.py:159: UserWarning: `huggingface_hub` cache-system uses symlinks by default to efficiently store duplicated files but your machine does not support them in C:\\Users\\F4L5GPL\\.cache\\huggingface\\hub\\models--google--siglip-base-patch16-256-multilingual. Caching files will still work but in a degraded version that might require more space on your disk. This warning can be disabled by setting the `HF_HUB_DISABLE_SYMLINKS_WARNING` environment variable. For more details, see https://huggingface.co/docs/huggingface_hub/how-to-cache#limitations.\n",
      "To support symlinks on Windows, you either need to activate Developer Mode or to run Python as an administrator. In order to see activate developer mode, see this article: https://docs.microsoft.com/en-us/windows/apps/get-started/enable-your-device-for-development\n",
      "  warnings.warn(message)\n"
     ]
    },
    {
     "data": {
      "application/vnd.jupyter.widget-view+json": {
       "model_id": "a5b31e8f00c64fd1a79d0656cba2da4f",
       "version_major": 2,
       "version_minor": 0
      },
      "text/plain": [
       "model.safetensors:   0%|          | 0.00/1.48G [00:00<?, ?B/s]"
      ]
     },
     "metadata": {},
     "output_type": "display_data"
    },
    {
     "data": {
      "application/vnd.jupyter.widget-view+json": {
       "model_id": "c502808a435e4f9b862bfdbd7b7f5797",
       "version_major": 2,
       "version_minor": 0
      },
      "text/plain": [
       "preprocessor_config.json:   0%|          | 0.00/368 [00:00<?, ?B/s]"
      ]
     },
     "metadata": {},
     "output_type": "display_data"
    },
    {
     "data": {
      "application/vnd.jupyter.widget-view+json": {
       "model_id": "f22f754dde5a455f90340f8684fd8b40",
       "version_major": 2,
       "version_minor": 0
      },
      "text/plain": [
       "tokenizer_config.json:   0%|          | 0.00/711 [00:00<?, ?B/s]"
      ]
     },
     "metadata": {},
     "output_type": "display_data"
    },
    {
     "data": {
      "application/vnd.jupyter.widget-view+json": {
       "model_id": "2bf254ef187f488d9337f298544861d1",
       "version_major": 2,
       "version_minor": 0
      },
      "text/plain": [
       "spiece.model:   0%|          | 0.00/4.31M [00:00<?, ?B/s]"
      ]
     },
     "metadata": {},
     "output_type": "display_data"
    },
    {
     "data": {
      "application/vnd.jupyter.widget-view+json": {
       "model_id": "aa7ae99cb58a4941a3dba0da6d0c25c5",
       "version_major": 2,
       "version_minor": 0
      },
      "text/plain": [
       "special_tokens_map.json:   0%|          | 0.00/409 [00:00<?, ?B/s]"
      ]
     },
     "metadata": {},
     "output_type": "display_data"
    },
    {
     "data": {
      "application/vnd.jupyter.widget-view+json": {
       "model_id": "9a7fd4cba661428bbc08c0147bb374f0",
       "version_major": 2,
       "version_minor": 0
      },
      "text/plain": [
       "tokenizer.json:   0%|          | 0.00/16.4M [00:00<?, ?B/s]"
      ]
     },
     "metadata": {},
     "output_type": "display_data"
    }
   ],
   "source": [
    "from PIL import Image\n",
    "import requests\n",
    "from transformers import AutoProcessor, AutoModel\n",
    "import torch\n",
    "import os \n",
    "cert = r\"Zscaler Root CA.crt\"\n",
    "os.environ[\"REQUESTS_CA_BUNDLE\"] = cert\n",
    "model = AutoModel.from_pretrained(\"google/siglip-base-patch16-256-multilingual\")\n",
    "processor = AutoProcessor.from_pretrained(\"google/siglip-base-patch16-256-multilingual\")"
   ]
  },
  {
   "cell_type": "code",
   "execution_count": 20,
   "metadata": {},
   "outputs": [
    {
     "name": "stdout",
     "output_type": "stream",
     "text": [
      "Shape:  odict_keys(['logits_per_image', 'logits_per_text', 'text_embeds', 'image_embeds', 'text_model_output', 'vision_model_output'])\n",
      "1.2% bức ảnh là 'bức ảnh là 1 tờ giấy'\n",
      "27.2% bức ảnh là 'bức ảnh là giấy ra viện'\n",
      "98.6% bức ảnh là 'ảnh là hóa đơn gía trị gia tăng'\n"
     ]
    }
   ],
   "source": [
    "from PIL import Image\n",
    "\n",
    "# url = \"giay-ra-vien.jpg\"\n",
    "image = Image.open(\"hoa_don.png\")\n",
    "\n",
    "# texts = [\"a photo of 2 cats\", \"a photo of 2 dogs\"]\n",
    "texts = [\"bức ảnh là 1 tờ giấy\", \"bức ảnh là giấy ra viện\" , \"ảnh là hóa đơn gía trị gia tăng\"]\n",
    "inputs = processor(text=texts, images=image, padding=\"max_length\", return_tensors=\"pt\")\n",
    "\n",
    "with torch.no_grad():\n",
    "    outputs = model(**inputs)\n",
    "print(\"Shape: \", outputs.keys())\n",
    "logits_per_image = outputs.logits_per_image\n",
    "probs = torch.sigmoid(logits_per_image) # these are the probabilities\n",
    "print(f\"{probs[0][0]:.1%} bức ảnh là '{texts[0]}'\")\n",
    "print(f\"{probs[0][1]:.1%} bức ảnh là '{texts[1]}'\")\n",
    "print(f\"{probs[0][2]:.1%} bức ảnh là '{texts[2]}'\")"
   ]
  },
  {
   "cell_type": "code",
   "execution_count": 35,
   "metadata": {},
   "outputs": [
    {
     "data": {
      "text/plain": [
       "tensor([[ 0.5682, -0.1897, -0.9573,  ..., -0.1999,  0.2125, -0.1812],\n",
       "        [ 0.4934,  0.0832, -0.8253,  ...,  0.0955, -0.0119, -0.1409],\n",
       "        [ 0.1257,  0.4013, -0.8600,  ...,  0.4563,  0.3708,  0.3020]])"
      ]
     },
     "execution_count": 35,
     "metadata": {},
     "output_type": "execute_result"
    }
   ],
   "source": [
    "outputs['text_model_output']['pooler_output']"
   ]
  },
  {
   "cell_type": "code",
   "execution_count": 32,
   "metadata": {},
   "outputs": [
    {
     "data": {
      "text/plain": [
       "tensor([[ 0.0250, -0.0084, -0.0422,  ..., -0.0088,  0.0094, -0.0080],\n",
       "        [ 0.0223,  0.0038, -0.0373,  ...,  0.0043, -0.0005, -0.0064],\n",
       "        [ 0.0057,  0.0183, -0.0392,  ...,  0.0208,  0.0169,  0.0138]])"
      ]
     },
     "execution_count": 32,
     "metadata": {},
     "output_type": "execute_result"
    }
   ],
   "source": [
    "outputs['text_embeds']"
   ]
  },
  {
   "cell_type": "code",
   "execution_count": 36,
   "metadata": {},
   "outputs": [
    {
     "data": {
      "text/plain": [
       "tensor([[ 0.0250, -0.0084, -0.0422,  ..., -0.0088,  0.0094, -0.0080],\n",
       "        [ 0.0223,  0.0038, -0.0373,  ...,  0.0043, -0.0005, -0.0064],\n",
       "        [ 0.0057,  0.0183, -0.0392,  ...,  0.0208,  0.0169,  0.0138]])"
      ]
     },
     "execution_count": 36,
     "metadata": {},
     "output_type": "execute_result"
    }
   ],
   "source": [
    "outputs['text_model_output']['pooler_output'] / outputs['text_model_output']['pooler_output'].norm(p=2, dim=-1, keepdim=True)"
   ]
  },
  {
   "cell_type": "code",
   "execution_count": 27,
   "metadata": {},
   "outputs": [
    {
     "data": {
      "text/plain": [
       "(torch.Size([1, 768]),\n",
       " torch.Size([3, 768]),\n",
       " torch.Size([3, 64, 768]),\n",
       " torch.Size([1, 256, 768]))"
      ]
     },
     "execution_count": 27,
     "metadata": {},
     "output_type": "execute_result"
    }
   ],
   "source": [
    "outputs['image_embeds'].shape, outputs['text_embeds'].shape, outputs['text_model_output'][0].size(), outputs['vision_model_output'][0].size()"
   ]
  },
  {
   "cell_type": "code",
   "execution_count": 5,
   "metadata": {},
   "outputs": [],
   "source": [
    "import shutil\n",
    "\n",
    "import requests\n",
    "\n",
    "url = 'http://images.cocodataset.org/val2017/000000039769.jpg'\n",
    "response = requests.get(url, stream=True)\n",
    "with open('img.png', 'wb') as out_file:\n",
    "    shutil.copyfileobj(response.raw, out_file)"
   ]
  },
  {
   "cell_type": "code",
   "execution_count": null,
   "metadata": {},
   "outputs": [],
   "source": []
  }
 ],
 "metadata": {
  "kernelspec": {
   "display_name": "Python 3",
   "language": "python",
   "name": "python3"
  },
  "language_info": {
   "codemirror_mode": {
    "name": "ipython",
    "version": 3
   },
   "file_extension": ".py",
   "mimetype": "text/x-python",
   "name": "python",
   "nbconvert_exporter": "python",
   "pygments_lexer": "ipython3",
   "version": "3.11.9"
  }
 },
 "nbformat": 4,
 "nbformat_minor": 2
}
